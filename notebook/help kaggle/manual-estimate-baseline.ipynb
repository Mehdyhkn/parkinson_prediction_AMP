{
 "cells": [
  {
   "cell_type": "markdown",
   "id": "daf98c3b",
   "metadata": {
    "papermill": {
     "duration": 0.007531,
     "end_time": "2023-02-22T07:13:52.358735",
     "exception": false,
     "start_time": "2023-02-22T07:13:52.351204",
     "status": "completed"
    },
    "tags": []
   },
   "source": [
    "# The Goal of This Notebook\n",
    "* My goal with this notebook is to optimize one single value for each of the targets: updrs_[1-4]\n",
    "* This updated version finds a value for each month of each target and fills missing months with previous available month.\n",
    "* I will assume identical results for each patient. This isn't a particularly sophisticated method, nor is it the best possible score, but it is a good baseline to start with. \n",
    "* This method can be improved. Calculating the best score seems to work best when there is a large amount of training data. With fewer data points, a simple median seems to be more effective."
   ]
  },
  {
   "cell_type": "markdown",
   "id": "d0773d55",
   "metadata": {
    "papermill": {
     "duration": 0.005641,
     "end_time": "2023-02-22T07:13:52.368576",
     "exception": false,
     "start_time": "2023-02-22T07:13:52.362935",
     "status": "completed"
    },
    "tags": []
   },
   "source": [
    "## Competition Metric\n",
    "### *This function calculates SMAPE, the metric used to score our predictions in this competition*"
   ]
  },
  {
   "cell_type": "code",
   "execution_count": 1,
   "id": "9a3e3622",
   "metadata": {
    "execution": {
     "iopub.execute_input": "2023-02-22T07:13:52.379728Z",
     "iopub.status.busy": "2023-02-22T07:13:52.378711Z",
     "iopub.status.idle": "2023-02-22T07:13:52.398817Z",
     "shell.execute_reply": "2023-02-22T07:13:52.393142Z"
    },
    "papermill": {
     "duration": 0.029621,
     "end_time": "2023-02-22T07:13:52.402309",
     "exception": false,
     "start_time": "2023-02-22T07:13:52.372688",
     "status": "completed"
    },
    "tags": []
   },
   "outputs": [],
   "source": [
    "def smape(y_true, y_pred):\n",
    "    smap = np.zeros(len(y_true))\n",
    "    \n",
    "    num = np.abs(y_true - y_pred)\n",
    "    dem = ((np.abs(y_true) + np.abs(y_pred)) / 2)\n",
    "    \n",
    "    pos_ind = dem != 0\n",
    "    smap[pos_ind] = num[pos_ind] / dem[pos_ind]\n",
    "    \n",
    "    return 100 * np.mean(smap)"
   ]
  },
  {
   "cell_type": "markdown",
   "id": "6a7f1863",
   "metadata": {
    "papermill": {
     "duration": 0.003604,
     "end_time": "2023-02-22T07:13:52.410763",
     "exception": false,
     "start_time": "2023-02-22T07:13:52.407159",
     "status": "completed"
    },
    "tags": []
   },
   "source": [
    "# Data Exploration\n",
    "#### There are some NaN values in our target columns. These will be a problem for the smape function, so these values will be dropped while looking for the best average estimate. "
   ]
  },
  {
   "cell_type": "code",
   "execution_count": 2,
   "id": "177703e3",
   "metadata": {
    "execution": {
     "iopub.execute_input": "2023-02-22T07:13:52.421094Z",
     "iopub.status.busy": "2023-02-22T07:13:52.420291Z",
     "iopub.status.idle": "2023-02-22T07:13:52.443286Z",
     "shell.execute_reply": "2023-02-22T07:13:52.442376Z"
    },
    "papermill": {
     "duration": 0.031253,
     "end_time": "2023-02-22T07:13:52.446064",
     "exception": false,
     "start_time": "2023-02-22T07:13:52.414811",
     "status": "completed"
    },
    "tags": []
   },
   "outputs": [],
   "source": [
    "import pandas as pd\n",
    "import numpy as np\n",
    "\n",
    "train = pd.read_csv('/kaggle/input/amp-parkinsons-disease-progression-prediction/train_clinical_data.csv')"
   ]
  },
  {
   "cell_type": "code",
   "execution_count": 3,
   "id": "f70b85be",
   "metadata": {
    "execution": {
     "iopub.execute_input": "2023-02-22T07:13:52.457024Z",
     "iopub.status.busy": "2023-02-22T07:13:52.456266Z",
     "iopub.status.idle": "2023-02-22T07:13:52.472771Z",
     "shell.execute_reply": "2023-02-22T07:13:52.471506Z"
    },
    "papermill": {
     "duration": 0.025546,
     "end_time": "2023-02-22T07:13:52.476219",
     "exception": false,
     "start_time": "2023-02-22T07:13:52.450673",
     "status": "completed"
    },
    "tags": []
   },
   "outputs": [
    {
     "data": {
      "text/plain": [
       "visit_id                                  0\n",
       "patient_id                                0\n",
       "visit_month                               0\n",
       "updrs_1                                   1\n",
       "updrs_2                                   2\n",
       "updrs_3                                  25\n",
       "updrs_4                                1038\n",
       "upd23b_clinical_state_on_medication    1327\n",
       "dtype: int64"
      ]
     },
     "execution_count": 3,
     "metadata": {},
     "output_type": "execute_result"
    }
   ],
   "source": [
    "train.isna().sum()"
   ]
  },
  {
   "cell_type": "code",
   "execution_count": 4,
   "id": "8c5d66fc",
   "metadata": {
    "execution": {
     "iopub.execute_input": "2023-02-22T07:13:52.486842Z",
     "iopub.status.busy": "2023-02-22T07:13:52.485994Z",
     "iopub.status.idle": "2023-02-22T07:13:52.508683Z",
     "shell.execute_reply": "2023-02-22T07:13:52.507579Z"
    },
    "papermill": {
     "duration": 0.033998,
     "end_time": "2023-02-22T07:13:52.514340",
     "exception": false,
     "start_time": "2023-02-22T07:13:52.480342",
     "status": "completed"
    },
    "tags": []
   },
   "outputs": [
    {
     "data": {
      "text/html": [
       "<div>\n",
       "<style scoped>\n",
       "    .dataframe tbody tr th:only-of-type {\n",
       "        vertical-align: middle;\n",
       "    }\n",
       "\n",
       "    .dataframe tbody tr th {\n",
       "        vertical-align: top;\n",
       "    }\n",
       "\n",
       "    .dataframe thead th {\n",
       "        text-align: right;\n",
       "    }\n",
       "</style>\n",
       "<table border=\"1\" class=\"dataframe\">\n",
       "  <thead>\n",
       "    <tr style=\"text-align: right;\">\n",
       "      <th></th>\n",
       "      <th>visit_id</th>\n",
       "      <th>patient_id</th>\n",
       "      <th>visit_month</th>\n",
       "      <th>updrs_1</th>\n",
       "      <th>updrs_2</th>\n",
       "      <th>updrs_3</th>\n",
       "      <th>updrs_4</th>\n",
       "      <th>upd23b_clinical_state_on_medication</th>\n",
       "    </tr>\n",
       "  </thead>\n",
       "  <tbody>\n",
       "    <tr>\n",
       "      <th>0</th>\n",
       "      <td>55_0</td>\n",
       "      <td>55</td>\n",
       "      <td>0</td>\n",
       "      <td>10.0</td>\n",
       "      <td>6.0</td>\n",
       "      <td>15.0</td>\n",
       "      <td>NaN</td>\n",
       "      <td>NaN</td>\n",
       "    </tr>\n",
       "    <tr>\n",
       "      <th>1</th>\n",
       "      <td>55_3</td>\n",
       "      <td>55</td>\n",
       "      <td>3</td>\n",
       "      <td>10.0</td>\n",
       "      <td>7.0</td>\n",
       "      <td>25.0</td>\n",
       "      <td>NaN</td>\n",
       "      <td>NaN</td>\n",
       "    </tr>\n",
       "    <tr>\n",
       "      <th>2</th>\n",
       "      <td>55_6</td>\n",
       "      <td>55</td>\n",
       "      <td>6</td>\n",
       "      <td>8.0</td>\n",
       "      <td>10.0</td>\n",
       "      <td>34.0</td>\n",
       "      <td>NaN</td>\n",
       "      <td>NaN</td>\n",
       "    </tr>\n",
       "    <tr>\n",
       "      <th>3</th>\n",
       "      <td>55_9</td>\n",
       "      <td>55</td>\n",
       "      <td>9</td>\n",
       "      <td>8.0</td>\n",
       "      <td>9.0</td>\n",
       "      <td>30.0</td>\n",
       "      <td>0.0</td>\n",
       "      <td>On</td>\n",
       "    </tr>\n",
       "    <tr>\n",
       "      <th>4</th>\n",
       "      <td>55_12</td>\n",
       "      <td>55</td>\n",
       "      <td>12</td>\n",
       "      <td>10.0</td>\n",
       "      <td>10.0</td>\n",
       "      <td>41.0</td>\n",
       "      <td>0.0</td>\n",
       "      <td>On</td>\n",
       "    </tr>\n",
       "  </tbody>\n",
       "</table>\n",
       "</div>"
      ],
      "text/plain": [
       "  visit_id  patient_id  visit_month  updrs_1  updrs_2  updrs_3  updrs_4  \\\n",
       "0     55_0          55            0     10.0      6.0     15.0      NaN   \n",
       "1     55_3          55            3     10.0      7.0     25.0      NaN   \n",
       "2     55_6          55            6      8.0     10.0     34.0      NaN   \n",
       "3     55_9          55            9      8.0      9.0     30.0      0.0   \n",
       "4    55_12          55           12     10.0     10.0     41.0      0.0   \n",
       "\n",
       "  upd23b_clinical_state_on_medication  \n",
       "0                                 NaN  \n",
       "1                                 NaN  \n",
       "2                                 NaN  \n",
       "3                                  On  \n",
       "4                                  On  "
      ]
     },
     "execution_count": 4,
     "metadata": {},
     "output_type": "execute_result"
    }
   ],
   "source": [
    "train.head()"
   ]
  },
  {
   "cell_type": "markdown",
   "id": "dd66badd",
   "metadata": {
    "papermill": {
     "duration": 0.0043,
     "end_time": "2023-02-22T07:13:52.523651",
     "exception": false,
     "start_time": "2023-02-22T07:13:52.519351",
     "status": "completed"
    },
    "tags": []
   },
   "source": [
    "### This loop optimizes the estimate for the highest smape score on the training set. This is repeated for every month of every target variable. "
   ]
  },
  {
   "cell_type": "code",
   "execution_count": 5,
   "id": "dadf24ab",
   "metadata": {
    "execution": {
     "iopub.execute_input": "2023-02-22T07:13:52.533999Z",
     "iopub.status.busy": "2023-02-22T07:13:52.533584Z",
     "iopub.status.idle": "2023-02-22T07:13:52.839276Z",
     "shell.execute_reply": "2023-02-22T07:13:52.838392Z"
    },
    "papermill": {
     "duration": 0.314575,
     "end_time": "2023-02-22T07:13:52.842450",
     "exception": false,
     "start_time": "2023-02-22T07:13:52.527875",
     "status": "completed"
    },
    "tags": []
   },
   "outputs": [],
   "source": [
    "estimates = {}\n",
    "months = train.visit_month.unique()\n",
    "targets = ['updrs_1', 'updrs_2', 'updrs_3', 'updrs_4']\n",
    "for m in months:\n",
    "    for target in targets:\n",
    "        t = train[train.visit_month==m][f'{target}'].dropna().values\n",
    "        if len(t) >= 200:\n",
    "            s = []\n",
    "            best_threshold = 0\n",
    "            best_smape = 200\n",
    "            for i in np.arange(0, 30, 0.1):\n",
    "                score = smape(t, np.array([i for _ in range(len(t))]))\n",
    "                s.append(score)\n",
    "                if score < best_smape:\n",
    "                    best_smape = score\n",
    "                    best_threshold = i\n",
    "        else:\n",
    "            best_threshold = np.median(t)\n",
    "        estimates[(m, target)] = best_threshold\n",
    "\n",
    "for i in range(sorted(months)[-1]+1):\n",
    "    for target in targets:\n",
    "        if (i, target) not in estimates:\n",
    "            estimates[(i, target)] = estimates[(i-1, target)]"
   ]
  },
  {
   "cell_type": "markdown",
   "id": "1aef245c",
   "metadata": {
    "papermill": {
     "duration": 0.005886,
     "end_time": "2023-02-22T07:13:52.854716",
     "exception": false,
     "start_time": "2023-02-22T07:13:52.848830",
     "status": "completed"
    },
    "tags": []
   },
   "source": [
    "### This bit of code calculates a score on the training data, and this should resemble the testing data"
   ]
  },
  {
   "cell_type": "code",
   "execution_count": 6,
   "id": "2058d9a2",
   "metadata": {
    "execution": {
     "iopub.execute_input": "2023-02-22T07:13:52.866461Z",
     "iopub.status.busy": "2023-02-22T07:13:52.865754Z",
     "iopub.status.idle": "2023-02-22T07:13:53.240230Z",
     "shell.execute_reply": "2023-02-22T07:13:53.239019Z"
    },
    "papermill": {
     "duration": 0.382801,
     "end_time": "2023-02-22T07:13:53.243018",
     "exception": false,
     "start_time": "2023-02-22T07:13:52.860217",
     "status": "completed"
    },
    "tags": []
   },
   "outputs": [
    {
     "data": {
      "text/plain": [
       "76.36180750178882"
      ]
     },
     "execution_count": 6,
     "metadata": {},
     "output_type": "execute_result"
    }
   ],
   "source": [
    "validation_x = []\n",
    "validation_y = []\n",
    "\n",
    "for id, row in train.iterrows():\n",
    "    for t in targets:\n",
    "        if row[f'{t}']>=0:\n",
    "            validation_x.append((row.visit_month, t))\n",
    "            validation_y.append(row[f'{t}'])\n",
    "            \n",
    "smape(validation_y, pd.Series(validation_x).map(estimates).values)"
   ]
  },
  {
   "cell_type": "markdown",
   "id": "ba583778",
   "metadata": {
    "papermill": {
     "duration": 0.004147,
     "end_time": "2023-02-22T07:13:53.252003",
     "exception": false,
     "start_time": "2023-02-22T07:13:53.247856",
     "status": "completed"
    },
    "tags": []
   },
   "source": [
    "# Applying Optimal Value Estimates to Test Data"
   ]
  },
  {
   "cell_type": "code",
   "execution_count": 7,
   "id": "4bd40b4a",
   "metadata": {
    "execution": {
     "iopub.execute_input": "2023-02-22T07:13:53.262931Z",
     "iopub.status.busy": "2023-02-22T07:13:53.261781Z",
     "iopub.status.idle": "2023-02-22T07:13:53.369209Z",
     "shell.execute_reply": "2023-02-22T07:13:53.367993Z"
    },
    "papermill": {
     "duration": 0.115796,
     "end_time": "2023-02-22T07:13:53.372129",
     "exception": false,
     "start_time": "2023-02-22T07:13:53.256333",
     "status": "completed"
    },
    "tags": []
   },
   "outputs": [
    {
     "name": "stdout",
     "output_type": "stream",
     "text": [
      "This version of the API is not optimized and should not be used to estimate the runtime of your code on the hidden test set.\n"
     ]
    }
   ],
   "source": [
    "import amp_pd_peptide\n",
    "env = amp_pd_peptide.make_env()   # initialize the environment\n",
    "iter_test = env.iter_test()    # an iterator which loops over the test files\n",
    "\n",
    "# The API will deliver four dataframes in this specific order:\n",
    "for (test, test_peptides, test_proteins, sample_submission) in iter_test:\n",
    "    # This maps the correct value estimate to each line in sample_submission\n",
    "    targets = sample_submission.prediction_id.str.split('_').apply(lambda x: (int(x[1]) + int(x[5]), '_'.join(x[2:4])))\n",
    "    sample_submission['rating'] = targets.map(estimates)\n",
    "    \n",
    "    # Saves predictions to csv file\n",
    "    env.predict(sample_submission)"
   ]
  },
  {
   "cell_type": "code",
   "execution_count": 8,
   "id": "51551f6f",
   "metadata": {
    "execution": {
     "iopub.execute_input": "2023-02-22T07:13:53.384255Z",
     "iopub.status.busy": "2023-02-22T07:13:53.383008Z",
     "iopub.status.idle": "2023-02-22T07:13:53.402713Z",
     "shell.execute_reply": "2023-02-22T07:13:53.401478Z"
    },
    "papermill": {
     "duration": 0.028546,
     "end_time": "2023-02-22T07:13:53.405253",
     "exception": false,
     "start_time": "2023-02-22T07:13:53.376707",
     "status": "completed"
    },
    "tags": []
   },
   "outputs": [
    {
     "data": {
      "text/html": [
       "<div>\n",
       "<style scoped>\n",
       "    .dataframe tbody tr th:only-of-type {\n",
       "        vertical-align: middle;\n",
       "    }\n",
       "\n",
       "    .dataframe tbody tr th {\n",
       "        vertical-align: top;\n",
       "    }\n",
       "\n",
       "    .dataframe thead th {\n",
       "        text-align: right;\n",
       "    }\n",
       "</style>\n",
       "<table border=\"1\" class=\"dataframe\">\n",
       "  <thead>\n",
       "    <tr style=\"text-align: right;\">\n",
       "      <th></th>\n",
       "      <th>prediction_id</th>\n",
       "      <th>rating</th>\n",
       "    </tr>\n",
       "  </thead>\n",
       "  <tbody>\n",
       "    <tr>\n",
       "      <th>0</th>\n",
       "      <td>3342_0_updrs_1_plus_0_months</td>\n",
       "      <td>5.0</td>\n",
       "    </tr>\n",
       "    <tr>\n",
       "      <th>1</th>\n",
       "      <td>3342_0_updrs_1_plus_6_months</td>\n",
       "      <td>6.0</td>\n",
       "    </tr>\n",
       "    <tr>\n",
       "      <th>2</th>\n",
       "      <td>3342_0_updrs_1_plus_12_months</td>\n",
       "      <td>6.0</td>\n",
       "    </tr>\n",
       "    <tr>\n",
       "      <th>3</th>\n",
       "      <td>3342_0_updrs_1_plus_24_months</td>\n",
       "      <td>6.0</td>\n",
       "    </tr>\n",
       "    <tr>\n",
       "      <th>4</th>\n",
       "      <td>3342_0_updrs_2_plus_0_months</td>\n",
       "      <td>4.0</td>\n",
       "    </tr>\n",
       "    <tr>\n",
       "      <th>...</th>\n",
       "      <td>...</td>\n",
       "      <td>...</td>\n",
       "    </tr>\n",
       "    <tr>\n",
       "      <th>59</th>\n",
       "      <td>50423_6_updrs_3_plus_24_months</td>\n",
       "      <td>21.0</td>\n",
       "    </tr>\n",
       "    <tr>\n",
       "      <th>60</th>\n",
       "      <td>50423_6_updrs_4_plus_0_months</td>\n",
       "      <td>0.0</td>\n",
       "    </tr>\n",
       "    <tr>\n",
       "      <th>61</th>\n",
       "      <td>50423_6_updrs_4_plus_6_months</td>\n",
       "      <td>0.0</td>\n",
       "    </tr>\n",
       "    <tr>\n",
       "      <th>62</th>\n",
       "      <td>50423_6_updrs_4_plus_12_months</td>\n",
       "      <td>0.0</td>\n",
       "    </tr>\n",
       "    <tr>\n",
       "      <th>63</th>\n",
       "      <td>50423_6_updrs_4_plus_24_months</td>\n",
       "      <td>0.0</td>\n",
       "    </tr>\n",
       "  </tbody>\n",
       "</table>\n",
       "<p>64 rows × 2 columns</p>\n",
       "</div>"
      ],
      "text/plain": [
       "                     prediction_id  rating\n",
       "0     3342_0_updrs_1_plus_0_months     5.0\n",
       "1     3342_0_updrs_1_plus_6_months     6.0\n",
       "2    3342_0_updrs_1_plus_12_months     6.0\n",
       "3    3342_0_updrs_1_plus_24_months     6.0\n",
       "4     3342_0_updrs_2_plus_0_months     4.0\n",
       "..                             ...     ...\n",
       "59  50423_6_updrs_3_plus_24_months    21.0\n",
       "60   50423_6_updrs_4_plus_0_months     0.0\n",
       "61   50423_6_updrs_4_plus_6_months     0.0\n",
       "62  50423_6_updrs_4_plus_12_months     0.0\n",
       "63  50423_6_updrs_4_plus_24_months     0.0\n",
       "\n",
       "[64 rows x 2 columns]"
      ]
     },
     "execution_count": 8,
     "metadata": {},
     "output_type": "execute_result"
    }
   ],
   "source": [
    "# Predictions are automatically submitted by env.predict()\n",
    "# This lets us read the submitted file\n",
    "submission = pd.read_csv('/kaggle/working/submission.csv')\n",
    "submission"
   ]
  }
 ],
 "metadata": {
  "kernelspec": {
   "display_name": "Python 3",
   "language": "python",
   "name": "python3"
  },
  "language_info": {
   "codemirror_mode": {
    "name": "ipython",
    "version": 3
   },
   "file_extension": ".py",
   "mimetype": "text/x-python",
   "name": "python",
   "nbconvert_exporter": "python",
   "pygments_lexer": "ipython3",
   "version": "3.7.12"
  },
  "papermill": {
   "default_parameters": {},
   "duration": 10.900784,
   "end_time": "2023-02-22T07:13:54.133145",
   "environment_variables": {},
   "exception": null,
   "input_path": "__notebook__.ipynb",
   "output_path": "__notebook__.ipynb",
   "parameters": {},
   "start_time": "2023-02-22T07:13:43.232361",
   "version": "2.3.4"
  }
 },
 "nbformat": 4,
 "nbformat_minor": 5
}

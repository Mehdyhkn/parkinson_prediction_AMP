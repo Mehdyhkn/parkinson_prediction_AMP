{
 "cells": [
  {
   "cell_type": "code",
   "execution_count": 1,
   "id": "12f624a4",
   "metadata": {
    "_cell_guid": "b1076dfc-b9ad-4769-8c92-a6c4dae69d19",
    "_uuid": "8f2839f25d086af736a60e9eeb907d3b93b6e0e5",
    "execution": {
     "iopub.execute_input": "2023-03-18T18:56:49.677000Z",
     "iopub.status.busy": "2023-03-18T18:56:49.676630Z",
     "iopub.status.idle": "2023-03-18T18:56:49.692954Z",
     "shell.execute_reply": "2023-03-18T18:56:49.691668Z"
    },
    "papermill": {
     "duration": 0.02772,
     "end_time": "2023-03-18T18:56:49.695680",
     "exception": false,
     "start_time": "2023-03-18T18:56:49.667960",
     "status": "completed"
    },
    "tags": []
   },
   "outputs": [
    {
     "name": "stdout",
     "output_type": "stream",
     "text": [
      "/kaggle/input/amp-parkinsons-disease-progression-prediction/train_proteins.csv\n",
      "/kaggle/input/amp-parkinsons-disease-progression-prediction/train_clinical_data.csv\n",
      "/kaggle/input/amp-parkinsons-disease-progression-prediction/public_timeseries_testing_util.py\n",
      "/kaggle/input/amp-parkinsons-disease-progression-prediction/supplemental_clinical_data.csv\n",
      "/kaggle/input/amp-parkinsons-disease-progression-prediction/train_peptides.csv\n",
      "/kaggle/input/amp-parkinsons-disease-progression-prediction/amp_pd_peptide/competition.cpython-37m-x86_64-linux-gnu.so\n",
      "/kaggle/input/amp-parkinsons-disease-progression-prediction/amp_pd_peptide/__init__.py\n",
      "/kaggle/input/amp-parkinsons-disease-progression-prediction/example_test_files/sample_submission.csv\n",
      "/kaggle/input/amp-parkinsons-disease-progression-prediction/example_test_files/test_proteins.csv\n",
      "/kaggle/input/amp-parkinsons-disease-progression-prediction/example_test_files/test_peptides.csv\n",
      "/kaggle/input/amp-parkinsons-disease-progression-prediction/example_test_files/test.csv\n"
     ]
    }
   ],
   "source": [
    "# This Python 3 environment comes with many helpful analytics libraries installed\n",
    "# It is defined by the kaggle/python Docker image: https://github.com/kaggle/docker-python\n",
    "# For example, here's several helpful packages to load\n",
    "\n",
    "import numpy as np # linear algebra\n",
    "import pandas as pd # data processing, CSV file I/O (e.g. pd.read_csv)\n",
    "\n",
    "# Input data files are available in the read-only \"../input/\" directory\n",
    "# For example, running this (by clicking run or pressing Shift+Enter) will list all files under the input directory\n",
    "\n",
    "import os\n",
    "for dirname, _, filenames in os.walk('/kaggle/input'):\n",
    "    for filename in filenames:\n",
    "        print(os.path.join(dirname, filename))\n",
    "\n",
    "# You can write up to 20GB to the current directory (/kaggle/working/) that gets preserved as output when you create a version using \"Save & Run All\" \n",
    "# You can also write temporary files to /kaggle/temp/, but they won't be saved outside of the current session"
   ]
  },
  {
   "cell_type": "code",
   "execution_count": 2,
   "id": "05e743bd",
   "metadata": {
    "execution": {
     "iopub.execute_input": "2023-03-18T18:56:49.709878Z",
     "iopub.status.busy": "2023-03-18T18:56:49.709477Z",
     "iopub.status.idle": "2023-03-18T18:56:52.192564Z",
     "shell.execute_reply": "2023-03-18T18:56:52.191516Z"
    },
    "papermill": {
     "duration": 2.493708,
     "end_time": "2023-03-18T18:56:52.195317",
     "exception": false,
     "start_time": "2023-03-18T18:56:49.701609",
     "status": "completed"
    },
    "tags": []
   },
   "outputs": [
    {
     "data": {
      "text/html": [
       "<style type='text/css'>\n",
       ".datatable table.frame { margin-bottom: 0; }\n",
       ".datatable table.frame thead { border-bottom: none; }\n",
       ".datatable table.frame tr.coltypes td {  color: #FFFFFF;  line-height: 6px;  padding: 0 0.5em;}\n",
       ".datatable .bool    { background: #DDDD99; }\n",
       ".datatable .object  { background: #565656; }\n",
       ".datatable .int     { background: #5D9E5D; }\n",
       ".datatable .float   { background: #4040CC; }\n",
       ".datatable .str     { background: #CC4040; }\n",
       ".datatable .time    { background: #40CC40; }\n",
       ".datatable .row_index {  background: var(--jp-border-color3);  border-right: 1px solid var(--jp-border-color0);  color: var(--jp-ui-font-color3);  font-size: 9px;}\n",
       ".datatable .frame tbody td { text-align: left; }\n",
       ".datatable .frame tr.coltypes .row_index {  background: var(--jp-border-color0);}\n",
       ".datatable th:nth-child(2) { padding-left: 12px; }\n",
       ".datatable .hellipsis {  color: var(--jp-cell-editor-border-color);}\n",
       ".datatable .vellipsis {  background: var(--jp-layout-color0);  color: var(--jp-cell-editor-border-color);}\n",
       ".datatable .na {  color: var(--jp-cell-editor-border-color);  font-size: 80%;}\n",
       ".datatable .sp {  opacity: 0.25;}\n",
       ".datatable .footer { font-size: 9px; }\n",
       ".datatable .frame_dimensions {  background: var(--jp-border-color3);  border-top: 1px solid var(--jp-border-color0);  color: var(--jp-ui-font-color3);  display: inline-block;  opacity: 0.6;  padding: 1px 10px 1px 5px;}\n",
       "</style>\n"
      ],
      "text/plain": [
       "<IPython.core.display.HTML object>"
      ]
     },
     "metadata": {},
     "output_type": "display_data"
    }
   ],
   "source": [
    "# Loading libraries\n",
    "import numpy as np\n",
    "import pandas as pd\n",
    "import matplotlib.pyplot as plt\n",
    "import seaborn as sns\n",
    "import lightgbm as lgb\n",
    "import tqdm\n",
    "import re\n",
    "\n",
    "\n",
    "from itertools import product\n",
    "from functools import reduce\n",
    "\n",
    "import warnings\n",
    "warnings.filterwarnings(\"ignore\", category=UserWarning)\n",
    "warnings.filterwarnings(\"ignore\", category=DeprecationWarning)\n",
    "warnings.filterwarnings(\"ignore\", category=FutureWarning)\n",
    "\n",
    "pd.set_option('display.float_format',lambda x: '%.3f' % x)"
   ]
  },
  {
   "cell_type": "code",
   "execution_count": 3,
   "id": "f699cd06",
   "metadata": {
    "execution": {
     "iopub.execute_input": "2023-03-18T18:56:52.208821Z",
     "iopub.status.busy": "2023-03-18T18:56:52.208376Z",
     "iopub.status.idle": "2023-03-18T18:56:53.751859Z",
     "shell.execute_reply": "2023-03-18T18:56:53.750556Z"
    },
    "papermill": {
     "duration": 1.554544,
     "end_time": "2023-03-18T18:56:53.755701",
     "exception": false,
     "start_time": "2023-03-18T18:56:52.201157",
     "status": "completed"
    },
    "tags": []
   },
   "outputs": [
    {
     "data": {
      "text/plain": [
       "((232741, 5), (981834, 6), (2615, 8))"
      ]
     },
     "execution_count": 3,
     "metadata": {},
     "output_type": "execute_result"
    }
   ],
   "source": [
    "# Reading the datasets\n",
    "protein_data = pd.read_csv('/kaggle/input/amp-parkinsons-disease-progression-prediction/train_proteins.csv')\n",
    "peptides_data = pd.read_csv('/kaggle/input/amp-parkinsons-disease-progression-prediction/train_peptides.csv')\n",
    "target_data = pd.read_csv('/kaggle/input/amp-parkinsons-disease-progression-prediction/train_clinical_data.csv')\n",
    "protein_data.shape, peptides_data.shape, target_data.shape\n"
   ]
  },
  {
   "cell_type": "code",
   "execution_count": 4,
   "id": "049169e6",
   "metadata": {
    "execution": {
     "iopub.execute_input": "2023-03-18T18:56:53.769540Z",
     "iopub.status.busy": "2023-03-18T18:56:53.769173Z",
     "iopub.status.idle": "2023-03-18T18:56:53.795944Z",
     "shell.execute_reply": "2023-03-18T18:56:53.794687Z"
    },
    "papermill": {
     "duration": 0.036747,
     "end_time": "2023-03-18T18:56:53.798893",
     "exception": false,
     "start_time": "2023-03-18T18:56:53.762146",
     "status": "completed"
    },
    "tags": []
   },
   "outputs": [],
   "source": [
    "# Creating targets\n",
    "id_cols = ['visit_id','patient_id','visit_month']\n",
    "target_cols = ['updrs_1','updrs_2','updrs_3','updrs_4']\n",
    "\n",
    "# Sorting target_data by patient_id and visit_month\n",
    "target_data.sort_values(['patient_id','visit_month'],inplace=True)\n",
    "target_data.sort_values(['patient_id','visit_month'],inplace=True)\n"
   ]
  },
  {
   "cell_type": "code",
   "execution_count": 5,
   "id": "f6a67525",
   "metadata": {
    "execution": {
     "iopub.execute_input": "2023-03-18T18:56:53.812778Z",
     "iopub.status.busy": "2023-03-18T18:56:53.812342Z",
     "iopub.status.idle": "2023-03-18T18:56:53.827119Z",
     "shell.execute_reply": "2023-03-18T18:56:53.826176Z"
    },
    "papermill": {
     "duration": 0.024457,
     "end_time": "2023-03-18T18:56:53.829452",
     "exception": false,
     "start_time": "2023-03-18T18:56:53.804995",
     "status": "completed"
    },
    "tags": []
   },
   "outputs": [
    {
     "data": {
      "text/plain": [
       "(2588, 7)"
      ]
     },
     "execution_count": 5,
     "metadata": {},
     "output_type": "execute_result"
    }
   ],
   "source": [
    "# Filling missing values in updrs_4 by 0\n",
    "target_data1 = target_data[id_cols + target_cols].copy()\n",
    "target_data1['updrs_4'].fillna(0,inplace = True)\n",
    "target_data1.dropna(inplace = True)\n",
    "target_data1.shape"
   ]
  },
  {
   "cell_type": "code",
   "execution_count": 6,
   "id": "1b336f36",
   "metadata": {
    "execution": {
     "iopub.execute_input": "2023-03-18T18:56:53.844965Z",
     "iopub.status.busy": "2023-03-18T18:56:53.843510Z",
     "iopub.status.idle": "2023-03-18T18:56:53.859428Z",
     "shell.execute_reply": "2023-03-18T18:56:53.858121Z"
    },
    "papermill": {
     "duration": 0.026891,
     "end_time": "2023-03-18T18:56:53.862387",
     "exception": false,
     "start_time": "2023-03-18T18:56:53.835496",
     "status": "completed"
    },
    "tags": []
   },
   "outputs": [],
   "source": [
    "def create_features(peptides_data,protein_data,target_data1):\n",
    "\n",
    "    # Processing peptides data and protein data \n",
    "    pep_pro_data = peptides_data.merge(protein_data,on = id_cols + ['UniProt'],how = 'left')\n",
    "    peptides_list = ['QGVNDNEEGFFSAR','AGLAASLAGPHSIVGR','MELERPGGNEITR','KTSLEDFYLDEER','RYIETDPANRDR','EWVAIESDSVQPVPR','LQDLYSIVR','AIQLTYNPDESSKPNMIDAATLK']\n",
    "\n",
    "    pep_pro_data =  pep_pro_data[pep_pro_data.Peptide.isin(peptides_list)].copy()\n",
    "\n",
    "    # Some features based on id cols \n",
    "    visit_month_summary = pep_pro_data.groupby('visit_month')[['PeptideAbundance','NPX']].agg(['min','max','mean','median','sum','std'])\n",
    "    visit_month_summary.columns = [i+'_'+j for i,j in visit_month_summary.columns.tolist()]\n",
    "\n",
    "    # Calculating ratio columns of NPX and PeptideAbundance\n",
    "    for i in ['min','max','mean','median','sum','std']:\n",
    "        visit_month_summary['pepab_to_npx_ratio_'+i] = visit_month_summary[f'PeptideAbundance_{i}']/visit_month_summary[f'NPX_{i}']\n",
    "\n",
    "    # Patient level summary\n",
    "    patient_summary = pep_pro_data.groupby('patient_id')[['PeptideAbundance','NPX']].agg(['min','max','mean','median','sum','std'])\n",
    "    patient_summary.columns = [i+'_'+j for i,j in patient_summary.columns.tolist()]\n",
    "\n",
    "    # Calculating ratio columns of NPX and PeptideAbundance\n",
    "    for i in ['min','max','mean','median','sum','std']:\n",
    "        patient_summary['pepab_to_npx_ratio_'+i] = patient_summary[f'PeptideAbundance_{i}']/patient_summary[f'NPX_{i}']\n",
    "\n",
    "    # Creating PeptideAbundance / NPX\n",
    "    pep_pro_data['pepab_to_npx_ratio'] = pep_pro_data['PeptideAbundance']/pep_pro_data['NPX']\n",
    "\n",
    "    temp = pep_pro_data.pivot(index= id_cols,columns = 'Peptide',values = ['PeptideAbundance','NPX','pepab_to_npx_ratio'])\n",
    "    temp.columns = [j+'_'+i for i,j in temp.columns]\n",
    "    temp.reset_index(inplace = True)\n",
    "    temp.fillna(0,inplace = True)\n",
    "\n",
    "    pep_pro_features = temp.merge(patient_summary.reset_index(),on = 'patient_id').merge(\n",
    "        visit_month_summary.reset_index(),on = 'visit_month',suffixes = ('_patient','_visit_month'))\n",
    "    \n",
    "    if target_data1 is None:\n",
    "        return pep_pro_features\n",
    "    else:\n",
    "        pep_pro_features = pep_pro_features.merge(target_data1,on = id_cols,how = 'inner')   \n",
    "        return pep_pro_features\n",
    "                                                                         \n",
    "                                                                         "
   ]
  },
  {
   "cell_type": "code",
   "execution_count": 7,
   "id": "2fc2c8cf",
   "metadata": {
    "execution": {
     "iopub.execute_input": "2023-03-18T18:56:53.877782Z",
     "iopub.status.busy": "2023-03-18T18:56:53.876389Z",
     "iopub.status.idle": "2023-03-18T18:56:54.311441Z",
     "shell.execute_reply": "2023-03-18T18:56:54.310192Z"
    },
    "papermill": {
     "duration": 0.445787,
     "end_time": "2023-03-18T18:56:54.314585",
     "exception": false,
     "start_time": "2023-03-18T18:56:53.868798",
     "status": "completed"
    },
    "tags": []
   },
   "outputs": [],
   "source": [
    "from sklearn.feature_selection import SelectKBest, f_regression, RFE, RFECV\n",
    "from sklearn.ensemble import RandomForestRegressor\n",
    "from sklearn.metrics import make_scorer\n",
    "from sklearn.preprocessing import StandardScaler\n",
    "import lightgbm as lgbm\n",
    "import xgboost as xgbm\n",
    "\n",
    "def smape(y_true, y_pred):\n",
    "    y_true = 1+y_true\n",
    "    y_pred = 1+y_pred\n",
    "    return 100/len(y_true) * np.sum(2 * np.abs(y_pred - y_true) / (np.abs(y_true) + np.abs(y_pred)))\n",
    "\n",
    "smape_ = make_scorer(smape,greater_is_better=False)\n",
    "\n",
    "def feature_selector(X,y,k,n_splits,groups):\n",
    "\n",
    "    # scaler = StandardScaler()\n",
    "    # scaler.fit(X)\n",
    "    # X = pd.DataFrame(scaler.transform(X),columns = X.columns.tolist(), index = X.index.tolist())\n",
    "    \n",
    "    # First feature selection using correlation and second using RFECV\n",
    "    selector = SelectKBest(score_func=f_regression, k=k)\n",
    "    feature_names = X.columns.tolist()\n",
    "\n",
    "    # fit selector to the data and transform the feature matrix\n",
    "    X_selected = selector.fit_transform(X, y)\n",
    "\n",
    "    # get the indices of the selected features\n",
    "    selected_indices = selector.get_support(indices=True)\n",
    "    selected_features = [feature_names[i] for i in selected_indices]\n",
    "    \n",
    "#     print(selected_features)\n",
    "\n",
    "    # instantiate a ML model\n",
    "    lgbm = lgb.LGBMRegressor(n_jobs=-1)\n",
    "    # xgbm = xgb.XGBRegressor()\n",
    "\n",
    "    # Initialize GroupKFold with 10 folds\n",
    "    kf = GroupKFold(n_splits=n_splits)\n",
    "\n",
    "    rfecv = RFECV(estimator=lgbm, min_features_to_select=10,cv = kf.split(X, y, groups), step = 1,scoring = smape_)\n",
    "\n",
    "    # fit RFE to the data\n",
    "    rfecv.fit(X[selected_features], y)\n",
    "\n",
    "    feature_rank = pd.DataFrame({'features' : selected_features,'rank':rfecv.ranking_}).sort_values('rank')\n",
    "    selected_features2 = feature_rank[feature_rank['rank'] < 2].features.tolist()\n",
    "    \n",
    "    return selected_features"
   ]
  },
  {
   "cell_type": "code",
   "execution_count": 8,
   "id": "ef2c61c4",
   "metadata": {
    "execution": {
     "iopub.execute_input": "2023-03-18T18:56:54.330761Z",
     "iopub.status.busy": "2023-03-18T18:56:54.328492Z",
     "iopub.status.idle": "2023-03-18T18:56:54.335725Z",
     "shell.execute_reply": "2023-03-18T18:56:54.334582Z"
    },
    "papermill": {
     "duration": 0.017415,
     "end_time": "2023-03-18T18:56:54.338204",
     "exception": false,
     "start_time": "2023-03-18T18:56:54.320789",
     "status": "completed"
    },
    "tags": []
   },
   "outputs": [],
   "source": [
    "# # Selecting features\n",
    "# model_data = create_features(peptides_data,protein_data,target_data1)\n",
    "# model_x = model_data.drop(columns = id_cols +  target_cols).fillna(0).copy()\n",
    "# model_y = model_data[target_cols].sum(axis = 1).values\n",
    "# groups = model_data['patient_id']\n",
    "# sel_features = feature_selector(model_x,model_y,40,10,groups)"
   ]
  },
  {
   "cell_type": "code",
   "execution_count": 9,
   "id": "de07ec9a",
   "metadata": {
    "execution": {
     "iopub.execute_input": "2023-03-18T18:56:54.353256Z",
     "iopub.status.busy": "2023-03-18T18:56:54.352236Z",
     "iopub.status.idle": "2023-03-18T18:56:54.359433Z",
     "shell.execute_reply": "2023-03-18T18:56:54.358659Z"
    },
    "papermill": {
     "duration": 0.017417,
     "end_time": "2023-03-18T18:56:54.361810",
     "exception": false,
     "start_time": "2023-03-18T18:56:54.344393",
     "status": "completed"
    },
    "tags": []
   },
   "outputs": [],
   "source": [
    "# print(sel_features )\n",
    "sel_features = ['AIQLTYNPDESSKPNMIDAATLK_PeptideAbundance', 'EWVAIESDSVQPVPR_PeptideAbundance', 'LQDLYSIVR_PeptideAbundance', 'MELERPGGNEITR_PeptideAbundance', 'QGVNDNEEGFFSAR_PeptideAbundance', 'AGLAASLAGPHSIVGR_NPX', 'AIQLTYNPDESSKPNMIDAATLK_NPX', 'EWVAIESDSVQPVPR_NPX', 'KTSLEDFYLDEER_NPX', 'LQDLYSIVR_NPX', 'MELERPGGNEITR_NPX', 'EWVAIESDSVQPVPR_pepab_to_npx_ratio', 'KTSLEDFYLDEER_pepab_to_npx_ratio', 'LQDLYSIVR_pepab_to_npx_ratio', 'RYIETDPANRDR_pepab_to_npx_ratio', 'PeptideAbundance_min_patient', 'PeptideAbundance_max_patient', 'PeptideAbundance_mean_patient', 'PeptideAbundance_median_patient', 'PeptideAbundance_std_patient', 'NPX_min_patient', 'NPX_max_patient', 'NPX_mean_patient', 'NPX_sum_patient', 'NPX_std_patient', 'pepab_to_npx_ratio_max_patient', 'pepab_to_npx_ratio_mean_patient', 'pepab_to_npx_ratio_sum_patient', 'pepab_to_npx_ratio_std_patient', 'PeptideAbundance_min_visit_month', 'PeptideAbundance_sum_visit_month', 'NPX_min_visit_month', 'NPX_max_visit_month', 'NPX_median_visit_month', 'NPX_sum_visit_month', 'NPX_std_visit_month', 'pepab_to_npx_ratio_min_visit_month', 'pepab_to_npx_ratio_max_visit_month', 'pepab_to_npx_ratio_median_visit_month', 'pepab_to_npx_ratio_std_visit_month']"
   ]
  },
  {
   "cell_type": "code",
   "execution_count": 10,
   "id": "56912cb8",
   "metadata": {
    "execution": {
     "iopub.execute_input": "2023-03-18T18:56:54.376213Z",
     "iopub.status.busy": "2023-03-18T18:56:54.375142Z",
     "iopub.status.idle": "2023-03-18T18:56:54.380412Z",
     "shell.execute_reply": "2023-03-18T18:56:54.379573Z"
    },
    "papermill": {
     "duration": 0.01486,
     "end_time": "2023-03-18T18:56:54.382808",
     "exception": false,
     "start_time": "2023-03-18T18:56:54.367948",
     "status": "completed"
    },
    "tags": []
   },
   "outputs": [],
   "source": [
    "# Loading libraries\n",
    "from sklearn.model_selection import GroupKFold\n",
    "from lightgbm import LGBMRegressor"
   ]
  },
  {
   "cell_type": "code",
   "execution_count": 11,
   "id": "ccfad6c7",
   "metadata": {
    "execution": {
     "iopub.execute_input": "2023-03-18T18:56:54.398837Z",
     "iopub.status.busy": "2023-03-18T18:56:54.397991Z",
     "iopub.status.idle": "2023-03-18T18:56:54.415194Z",
     "shell.execute_reply": "2023-03-18T18:56:54.414319Z"
    },
    "papermill": {
     "duration": 0.028944,
     "end_time": "2023-03-18T18:56:54.417783",
     "exception": false,
     "start_time": "2023-03-18T18:56:54.388839",
     "status": "completed"
    },
    "tags": []
   },
   "outputs": [],
   "source": [
    "# Function to create lgb models\n",
    "\n",
    "def train_models_lgb(model_data,target_cols,sel_features, params):    \n",
    "\n",
    "    groups = model_data['patient_id']\n",
    "\n",
    "    # Initialize GroupKFold with 10 folds\n",
    "    kf = GroupKFold(n_splits=10)\n",
    "    \n",
    "    # Initialize a dictionary to store the models and scores\n",
    "    models = {}\n",
    "    scores_trn = {} ; scores_val = {}\n",
    "    scores2_trn = {} ; scores2_val = {}\n",
    "    \n",
    "    # Loop through each combination of hyperparameters\n",
    "    for i, target in enumerate(target_cols):\n",
    "\n",
    "        X = model_data[sel_features].copy()\n",
    "        y = model_data[target].copy() \n",
    "\n",
    "        # Initialize variables for storing predictions and actual values\n",
    "        predictions_val = np.zeros(len(X))\n",
    "        predictions2_val = np.zeros(len(X))\n",
    "        actuals_val = np.zeros(len(X))\n",
    "        \n",
    "        predictions_trn = np.zeros(len(X))\n",
    "        predictions2_trn = np.zeros(len(X))\n",
    "        actuals_trn = np.zeros(len(X))\n",
    "        \n",
    "        model_temp = []\n",
    "        # Loop through each fold\n",
    "        for train_idx, test_idx in kf.split(X, y, groups):\n",
    "            # Get training and validation data for the fold\n",
    "            X_train, X_val = X.iloc[train_idx], X.iloc[test_idx]\n",
    "            y_train, y_val = y.iloc[train_idx], y.iloc[test_idx]\n",
    "            \n",
    "            # Initialize LightGBM Regressor\n",
    "            model = LGBMRegressor(**params, random_state=2023)\n",
    "\n",
    "            # Train the model\n",
    "            model.fit(X_train, y_train)\n",
    "\n",
    "            # Make predictions on validation data for the fold\n",
    "            fold_preds = model.predict(X_val)\n",
    "            trn_preds = model.predict(X_train)\n",
    "\n",
    "            # Store predictions and actuals for the fold\n",
    "            predictions_val[test_idx] = fold_preds\n",
    "            actuals_val[test_idx] = y_val\n",
    "\n",
    "            # Store predictions and actuals for the fold\n",
    "            predictions_trn[train_idx] = trn_preds\n",
    "            actuals_trn[train_idx] = y_train\n",
    "\n",
    "            if target == 'updrs_4':\n",
    "                predictions2_val[test_idx] = 0\n",
    "                predictions2_trn[train_idx] = 0\n",
    "            else:\n",
    "                predictions2_val[test_idx] = fold_preds\n",
    "                predictions2_trn[train_idx] = trn_preds\n",
    "                \n",
    "            model_temp += [model]\n",
    "\n",
    "                \n",
    "            \n",
    "        # Calculate the validation score for the model\n",
    "        score_val = smape(actuals_val,predictions_val)   \n",
    "        score2_val  = smape(actuals_val,predictions2_val)\n",
    "        \n",
    "        score_trn  = smape(actuals_trn,predictions_trn)\n",
    "        score2_trn  = smape(actuals_trn,predictions2_trn)\n",
    "\n",
    "        # Print the train score for the model\n",
    "        print(f\"\\nModel for {target} train score: {score_trn:.3f}\")\n",
    "        \n",
    "        # Print the validation score for the model\n",
    "        print(f\"Model for {target} validation score: {score_val:.3f}\")\n",
    "        \n",
    "        if target == 'updrs_4':\n",
    "            \n",
    "            print(f\"\\nModel for {target} train score when pred is 0: {score2_trn:.3f}\")\n",
    "            # Print the validation score for the model\n",
    "            print(f\"Model for {target} validation score when pred is 0: {score2_val:.3f}\")\n",
    "        \n",
    "        # Store the model and score in the dictionary\n",
    "        models[target] = model_temp\n",
    "        scores_trn[target] = score_trn\n",
    "        scores2_trn[target] = score2_trn\n",
    "        scores_val[target] = score_val\n",
    "        scores2_val[target] = score2_val\n",
    "    \n",
    "    print(f\"\\nTrain score for all models : {np.mean(list(scores_trn.values())):3f}\")\n",
    "    print(f'Train score for all models when updrs_4 pred is 0 : {np.mean(list(scores2_trn.values())):3f}')\n",
    "    \n",
    "    print(f\"\\nValidation score for all models : {np.mean(list(scores_val.values())):3f}\")\n",
    "    \n",
    "    print(f'Validation score for all models when updrs_4 pred is 0 : {np.mean(list(scores2_val.values())):3f}')\n",
    "\n",
    "    return models "
   ]
  },
  {
   "cell_type": "code",
   "execution_count": 12,
   "id": "c2d5a733",
   "metadata": {
    "execution": {
     "iopub.execute_input": "2023-03-18T18:56:54.432219Z",
     "iopub.status.busy": "2023-03-18T18:56:54.431104Z",
     "iopub.status.idle": "2023-03-18T18:56:54.437112Z",
     "shell.execute_reply": "2023-03-18T18:56:54.436266Z"
    },
    "papermill": {
     "duration": 0.015591,
     "end_time": "2023-03-18T18:56:54.439464",
     "exception": false,
     "start_time": "2023-03-18T18:56:54.423873",
     "status": "completed"
    },
    "tags": []
   },
   "outputs": [],
   "source": [
    "# Variables for model\n",
    "params = {\n",
    "    'learning_rate' : 0.0005,\n",
    "    'n_estimators' : 1500,\n",
    "    'reg_alpha' : 5,\n",
    "    'reg_lambda' : 5,\n",
    "    'min_child_samples' : 30,\n",
    "    'colsample_bytree' : 0.6,\n",
    "    'subsample':0.6,\n",
    "    'num_leaves' : 10,\n",
    "    'max_depth' : 2\n",
    "    }"
   ]
  },
  {
   "cell_type": "code",
   "execution_count": 13,
   "id": "56fd8bc5",
   "metadata": {
    "execution": {
     "iopub.execute_input": "2023-03-18T18:56:54.453949Z",
     "iopub.status.busy": "2023-03-18T18:56:54.453176Z",
     "iopub.status.idle": "2023-03-18T18:57:35.306959Z",
     "shell.execute_reply": "2023-03-18T18:57:35.305708Z"
    },
    "papermill": {
     "duration": 40.865244,
     "end_time": "2023-03-18T18:57:35.310958",
     "exception": false,
     "start_time": "2023-03-18T18:56:54.445714",
     "status": "completed"
    },
    "tags": []
   },
   "outputs": [
    {
     "name": "stdout",
     "output_type": "stream",
     "text": [
      "\n",
      "Model for updrs_1 train score: 56.420\n",
      "Model for updrs_1 validation score: 58.594\n",
      "\n",
      "Model for updrs_2 train score: 73.844\n",
      "Model for updrs_2 validation score: 76.563\n",
      "\n",
      "Model for updrs_3 train score: 78.759\n",
      "Model for updrs_3 validation score: 80.796\n",
      "\n",
      "Model for updrs_4 train score: 65.659\n",
      "Model for updrs_4 validation score: 68.876\n",
      "\n",
      "Model for updrs_4 train score when pred is 0: 27.489\n",
      "Model for updrs_4 validation score when pred is 0: 27.489\n",
      "\n",
      "Train score for all models : 68.670176\n",
      "Train score for all models when updrs_4 pred is 0 : 59.127742\n",
      "\n",
      "Validation score for all models : 71.207466\n",
      "Validation score for all models when updrs_4 pred is 0 : 60.860576\n"
     ]
    }
   ],
   "source": [
    "# Creating features & Building model\n",
    "model_data = create_features(peptides_data,protein_data,target_data1)\n",
    "lgb_models = train_models_lgb(model_data,target_cols,sel_features,params)"
   ]
  },
  {
   "cell_type": "markdown",
   "id": "1eb72c3d",
   "metadata": {
    "papermill": {
     "duration": 0.006257,
     "end_time": "2023-03-18T18:57:35.331406",
     "exception": false,
     "start_time": "2023-03-18T18:57:35.325149",
     "status": "completed"
    },
    "tags": []
   },
   "source": [
    "#### Testing the codes for example test data"
   ]
  },
  {
   "cell_type": "code",
   "execution_count": 14,
   "id": "b1cedcab",
   "metadata": {
    "execution": {
     "iopub.execute_input": "2023-03-18T18:57:35.347464Z",
     "iopub.status.busy": "2023-03-18T18:57:35.346237Z",
     "iopub.status.idle": "2023-03-18T18:57:35.381898Z",
     "shell.execute_reply": "2023-03-18T18:57:35.380896Z"
    },
    "papermill": {
     "duration": 0.046282,
     "end_time": "2023-03-18T18:57:35.384660",
     "exception": false,
     "start_time": "2023-03-18T18:57:35.338378",
     "status": "completed"
    },
    "tags": []
   },
   "outputs": [],
   "source": [
    "# Reading the test files\n",
    "test_peptides = pd.read_csv('/kaggle/input/amp-parkinsons-disease-progression-prediction/example_test_files/test_peptides.csv') \n",
    "test_proteins = pd.read_csv('/kaggle/input/amp-parkinsons-disease-progression-prediction/example_test_files/test_proteins.csv') \n",
    "sample_submission = pd.read_csv('/kaggle/input/amp-parkinsons-disease-progression-prediction/example_test_files/sample_submission.csv')\n",
    "test = pd.read_csv('/kaggle/input/amp-parkinsons-disease-progression-prediction/example_test_files/test.csv')"
   ]
  },
  {
   "cell_type": "code",
   "execution_count": 15,
   "id": "3a17bf28",
   "metadata": {
    "execution": {
     "iopub.execute_input": "2023-03-18T18:57:35.400940Z",
     "iopub.status.busy": "2023-03-18T18:57:35.400113Z",
     "iopub.status.idle": "2023-03-18T18:57:35.418019Z",
     "shell.execute_reply": "2023-03-18T18:57:35.416672Z"
    },
    "papermill": {
     "duration": 0.029364,
     "end_time": "2023-03-18T18:57:35.420784",
     "exception": false,
     "start_time": "2023-03-18T18:57:35.391420",
     "status": "completed"
    },
    "tags": []
   },
   "outputs": [],
   "source": [
    "def get_predictions(test,peptides_data,protein_data,sample_submission,models,sel_features):\n",
    "\n",
    "    submission_ids  = test.visit_id.tolist()\n",
    "    features = create_features(test_peptides,test_proteins,None)\n",
    "    features = pd.merge(test[['patient_id','visit_month']],features,on = ['patient_id','visit_month'],how = 'inner')\n",
    "    features['visit_month_1'] = [0,6,12,24]*int(features.shape[0]/4) \n",
    "\n",
    "    # Imputing missing values by 0\n",
    "    features.fillna(0,inplace = True)\n",
    "\n",
    "    missing_features = list(set(sel_features).difference(features.columns.tolist()))\n",
    "    features[missing_features] = 0\n",
    "    print('missing features : \\n',missing_features )\n",
    "\n",
    "    # Making predictions from all the models\n",
    "    pred_submission = pd.DataFrame(index = range(features.shape[0]))\n",
    "    \n",
    "    for key,value in models.items():\n",
    "        pred_feats = features[sel_features]        \n",
    "        pred_train_temp = pd.DataFrame(np.mean(np.array([np.array(mod.predict(pred_feats)) for mod in value]),axis = 0))\n",
    "        pred_train_temp.columns = [key]\n",
    "        pred_submission = pred_submission.join(pred_train_temp)\n",
    "    \n",
    "    pred_submission = pred_submission[models.keys()].copy()\n",
    "    pred_submission.index = features['patient_id'].astype(str) + '_' +features['visit_month'].astype(str) + '_'+features['visit_month_1'].apply(lambda x: 'plus_'+str(x) +'_months')\n",
    "\n",
    "    pred_submission['updrs_4'] = 0\n",
    "    pred_submission = pred_submission.stack().reset_index().rename(columns = {'level_0':'prediction_id','level_1':'target',0:'rating'})\n",
    "    pred_submission['prediction_id'] = pred_submission[['prediction_id','target']].apply(lambda x: '_'.join(x[0].split('_')[:2] + [x[1]] + x[0].split('_')[2:]) ,axis= 1)\n",
    "    pred_submission.drop(columns = ['target'],inplace= True)\n",
    "#     pred_submission['group_key'] = pred_submission['prediction_id'].apply(lambda x: x.split('_')[1]).astype('str')\n",
    "    pred_submission.reset_index(drop = True,inplace = True)\n",
    "    sample_submission = sample_submission.drop(columns = ['rating']).copy()\n",
    "    sample_submission = sample_submission.merge(pred_submission,on = ['prediction_id'],how = 'left')\n",
    "    \n",
    "    \n",
    "    # Calculating medians\n",
    "    temp  = pred_submission.copy()\n",
    "    temp['target'] = temp.prediction_id.apply(lambda x: '_'.join(x.split('_')[2:]))\n",
    "    pred_medians = temp.groupby('target')['rating'].median()\n",
    "\n",
    "    sample_submission['rating'] = sample_submission['rating'].fillna(\n",
    "        \n",
    "        sample_submission.prediction_id.apply(lambda x: '_'.join(x.split('_')[2:])).map(pred_medians)\n",
    "    \n",
    "    )\n",
    "    \n",
    "    sample_submission['rating'] = sample_submission['rating'].apply(lambda x: np.ceil(x))\n",
    "\n",
    "    return sample_submission"
   ]
  },
  {
   "cell_type": "code",
   "execution_count": 16,
   "id": "a4547cdf",
   "metadata": {
    "execution": {
     "iopub.execute_input": "2023-03-18T18:57:35.435828Z",
     "iopub.status.busy": "2023-03-18T18:57:35.435406Z",
     "iopub.status.idle": "2023-03-18T18:57:35.604947Z",
     "shell.execute_reply": "2023-03-18T18:57:35.603691Z"
    },
    "papermill": {
     "duration": 0.180435,
     "end_time": "2023-03-18T18:57:35.607804",
     "exception": false,
     "start_time": "2023-03-18T18:57:35.427369",
     "status": "completed"
    },
    "tags": []
   },
   "outputs": [
    {
     "name": "stdout",
     "output_type": "stream",
     "text": [
      "missing features : \n",
      " ['RYIETDPANRDR_pepab_to_npx_ratio']\n"
     ]
    }
   ],
   "source": [
    "temp  = get_predictions(test,test_peptides,test_proteins,sample_submission,lgb_models,sel_features)"
   ]
  },
  {
   "cell_type": "markdown",
   "id": "ce26d8be",
   "metadata": {
    "papermill": {
     "duration": 0.015006,
     "end_time": "2023-03-18T18:57:35.629530",
     "exception": false,
     "start_time": "2023-03-18T18:57:35.614524",
     "status": "completed"
    },
    "tags": []
   },
   "source": [
    "#### Submitting to API"
   ]
  },
  {
   "cell_type": "code",
   "execution_count": 17,
   "id": "31a6574d",
   "metadata": {
    "execution": {
     "iopub.execute_input": "2023-03-18T18:57:35.645327Z",
     "iopub.status.busy": "2023-03-18T18:57:35.644938Z",
     "iopub.status.idle": "2023-03-18T18:57:35.666064Z",
     "shell.execute_reply": "2023-03-18T18:57:35.664953Z"
    },
    "papermill": {
     "duration": 0.032425,
     "end_time": "2023-03-18T18:57:35.669583",
     "exception": false,
     "start_time": "2023-03-18T18:57:35.637158",
     "status": "completed"
    },
    "tags": []
   },
   "outputs": [],
   "source": [
    "import sys\n",
    "sys.path.append('/kaggle/input/amp-parkinsons-disease-progression-prediction/')\n",
    "\n",
    "import amp_pd_peptide\n",
    "amp_pd_peptide.make_env.func_dict['__called__'] = False\n",
    "env = amp_pd_peptide.make_env()\n",
    "\n",
    "iter_test = env.iter_test() "
   ]
  },
  {
   "cell_type": "code",
   "execution_count": 18,
   "id": "7f7b95d8",
   "metadata": {
    "execution": {
     "iopub.execute_input": "2023-03-18T18:57:35.693763Z",
     "iopub.status.busy": "2023-03-18T18:57:35.693201Z",
     "iopub.status.idle": "2023-03-18T18:57:36.164590Z",
     "shell.execute_reply": "2023-03-18T18:57:36.162685Z"
    },
    "papermill": {
     "duration": 0.488492,
     "end_time": "2023-03-18T18:57:36.167277",
     "exception": false,
     "start_time": "2023-03-18T18:57:35.678785",
     "status": "completed"
    },
    "tags": []
   },
   "outputs": [
    {
     "name": "stdout",
     "output_type": "stream",
     "text": [
      "This version of the API is not optimized and should not be used to estimate the runtime of your code on the hidden test set.\n",
      "missing features : \n",
      " ['RYIETDPANRDR_pepab_to_npx_ratio']\n",
      "missing features : \n",
      " ['RYIETDPANRDR_pepab_to_npx_ratio']\n"
     ]
    }
   ],
   "source": [
    "\n",
    "for (test, test_peptides, test_proteins, sample_submission) in iter_test:\n",
    "    test = test\n",
    "    submission = get_predictions(test, test_peptides, test_proteins, sample_submission, lgb_models,sel_features)\n",
    "    submission = submission.drop_duplicates(subset=['prediction_id', 'rating'])\n",
    "    env.predict(submission)"
   ]
  },
  {
   "cell_type": "code",
   "execution_count": null,
   "id": "9ec23e71",
   "metadata": {
    "papermill": {
     "duration": 0.006349,
     "end_time": "2023-03-18T18:57:36.180447",
     "exception": false,
     "start_time": "2023-03-18T18:57:36.174098",
     "status": "completed"
    },
    "tags": []
   },
   "outputs": [],
   "source": []
  }
 ],
 "metadata": {
  "kernelspec": {
   "display_name": "Python 3",
   "language": "python",
   "name": "python3"
  },
  "language_info": {
   "codemirror_mode": {
    "name": "ipython",
    "version": 3
   },
   "file_extension": ".py",
   "mimetype": "text/x-python",
   "name": "python",
   "nbconvert_exporter": "python",
   "pygments_lexer": "ipython3",
   "version": "3.7.12"
  },
  "papermill": {
   "default_parameters": {},
   "duration": 57.201515,
   "end_time": "2023-03-18T18:57:37.111301",
   "environment_variables": {},
   "exception": null,
   "input_path": "__notebook__.ipynb",
   "output_path": "__notebook__.ipynb",
   "parameters": {},
   "start_time": "2023-03-18T18:56:39.909786",
   "version": "2.4.0"
  }
 },
 "nbformat": 4,
 "nbformat_minor": 5
}

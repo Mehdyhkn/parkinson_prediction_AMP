{
 "cells": [
  {
   "cell_type": "code",
   "execution_count": 1,
   "id": "db1cf4fd",
   "metadata": {
    "_cell_guid": "b1076dfc-b9ad-4769-8c92-a6c4dae69d19",
    "_uuid": "8f2839f25d086af736a60e9eeb907d3b93b6e0e5",
    "execution": {
     "iopub.execute_input": "2023-03-21T17:28:50.449644Z",
     "iopub.status.busy": "2023-03-21T17:28:50.449209Z",
     "iopub.status.idle": "2023-03-21T17:28:50.472073Z",
     "shell.execute_reply": "2023-03-21T17:28:50.470997Z"
    },
    "papermill": {
     "duration": 0.032074,
     "end_time": "2023-03-21T17:28:50.475248",
     "exception": false,
     "start_time": "2023-03-21T17:28:50.443174",
     "status": "completed"
    },
    "tags": []
   },
   "outputs": [
    {
     "name": "stdout",
     "output_type": "stream",
     "text": [
      "/kaggle/input/amp-parkinsons-disease-progression-prediction/train_proteins.csv\n",
      "/kaggle/input/amp-parkinsons-disease-progression-prediction/train_clinical_data.csv\n",
      "/kaggle/input/amp-parkinsons-disease-progression-prediction/public_timeseries_testing_util.py\n",
      "/kaggle/input/amp-parkinsons-disease-progression-prediction/supplemental_clinical_data.csv\n",
      "/kaggle/input/amp-parkinsons-disease-progression-prediction/train_peptides.csv\n",
      "/kaggle/input/amp-parkinsons-disease-progression-prediction/amp_pd_peptide/competition.cpython-37m-x86_64-linux-gnu.so\n",
      "/kaggle/input/amp-parkinsons-disease-progression-prediction/amp_pd_peptide/__init__.py\n",
      "/kaggle/input/amp-parkinsons-disease-progression-prediction/example_test_files/sample_submission.csv\n",
      "/kaggle/input/amp-parkinsons-disease-progression-prediction/example_test_files/test_proteins.csv\n",
      "/kaggle/input/amp-parkinsons-disease-progression-prediction/example_test_files/test_peptides.csv\n",
      "/kaggle/input/amp-parkinsons-disease-progression-prediction/example_test_files/test.csv\n"
     ]
    }
   ],
   "source": [
    "# This Python 3 environment comes with many helpful analytics libraries installed\n",
    "# It is defined by the kaggle/python Docker image: https://github.com/kaggle/docker-python\n",
    "# For example, here's several helpful packages to load\n",
    "\n",
    "import numpy as np # linear algebra\n",
    "import pandas as pd # data processing, CSV file I/O (e.g. pd.read_csv)\n",
    "\n",
    "# Input data files are available in the read-only \"../input/\" directory\n",
    "# For example, running this (by clicking run or pressing Shift+Enter) will list all files under the input directory\n",
    "\n",
    "import os\n",
    "for dirname, _, filenames in os.walk('/kaggle/input'):\n",
    "    for filename in filenames:\n",
    "        print(os.path.join(dirname, filename))\n",
    "\n",
    "# You can write up to 20GB to the current directory (/kaggle/working/) that gets preserved as output when you create a version using \"Save & Run All\" \n",
    "# You can also write temporary files to /kaggle/temp/, but they won't be saved outside of the current session"
   ]
  },
  {
   "cell_type": "markdown",
   "id": "680e0f5e",
   "metadata": {
    "papermill": {
     "duration": 0.002616,
     "end_time": "2023-03-21T17:28:50.481425",
     "exception": false,
     "start_time": "2023-03-21T17:28:50.478809",
     "status": "completed"
    },
    "tags": []
   },
   "source": [
    "# Submission: points to consider\n",
    "\n",
    "* use amp_pd_peptide API \n",
    "\n",
    "* iterate through the test data using loop \n",
    "\n",
    "* for every iteration make sure to call **env.predict**\n",
    "\n",
    "* amp_pd_peptide.make_env.func_dict['__called__'] = False , setting this to False will alow you to execute the same code without raising error. **This is for debugging purposes.**\n"
   ]
  },
  {
   "cell_type": "markdown",
   "id": "12e42878",
   "metadata": {
    "papermill": {
     "duration": 0.002351,
     "end_time": "2023-03-21T17:28:50.486544",
     "exception": false,
     "start_time": "2023-03-21T17:28:50.484193",
     "status": "completed"
    },
    "tags": []
   },
   "source": [
    "### import the API"
   ]
  },
  {
   "cell_type": "code",
   "execution_count": 2,
   "id": "bf83cf64",
   "metadata": {
    "execution": {
     "iopub.execute_input": "2023-03-21T17:28:50.494342Z",
     "iopub.status.busy": "2023-03-21T17:28:50.493529Z",
     "iopub.status.idle": "2023-03-21T17:28:50.515541Z",
     "shell.execute_reply": "2023-03-21T17:28:50.514380Z"
    },
    "papermill": {
     "duration": 0.029359,
     "end_time": "2023-03-21T17:28:50.518527",
     "exception": false,
     "start_time": "2023-03-21T17:28:50.489168",
     "status": "completed"
    },
    "tags": []
   },
   "outputs": [],
   "source": [
    "import amp_pd_peptide"
   ]
  },
  {
   "cell_type": "markdown",
   "id": "dd653fca",
   "metadata": {
    "papermill": {
     "duration": 0.002484,
     "end_time": "2023-03-21T17:28:50.524009",
     "exception": false,
     "start_time": "2023-03-21T17:28:50.521525",
     "status": "completed"
    },
    "tags": []
   },
   "source": [
    "### Forecasting loop:\n",
    "\n",
    "* Initiate the test environment\n",
    "\n",
    "* invoke the iterator **env.iter_test()**\n",
    "\n",
    "* **For each visit_id, you need to make 16 predictions.** updrs_1 4 predictions, updrs_2 4 predictions likewise.\n",
    "\n",
    "```\n",
    "0    3342_0_updrs_1_plus_0_months       0\n",
    "1    3342_0_updrs_1_plus_6_months       0\n",
    "2   3342_0_updrs_1_plus_12_months       0\n",
    "3   3342_0_updrs_1_plus_24_months       0\n",
    "4    3342_0_updrs_2_plus_0_months       0\n",
    "5    3342_0_updrs_2_plus_6_months       0\n",
    "6   3342_0_updrs_2_plus_12_months       0\n",
    "7   3342_0_updrs_2_plus_24_months       0\n",
    "8    3342_0_updrs_3_plus_0_months       0\n",
    "9    3342_0_updrs_3_plus_6_months       0\n",
    "10  3342_0_updrs_3_plus_12_months       0\n",
    "11  3342_0_updrs_3_plus_24_months       0\n",
    "12   3342_0_updrs_4_plus_0_months       0\n",
    "13   3342_0_updrs_4_plus_6_months       0\n",
    "14  3342_0_updrs_4_plus_12_months       0\n",
    "15  3342_0_updrs_4_plus_24_months       0\n",
    "```"
   ]
  },
  {
   "cell_type": "code",
   "execution_count": 3,
   "id": "196f9596",
   "metadata": {
    "execution": {
     "iopub.execute_input": "2023-03-21T17:28:50.532051Z",
     "iopub.status.busy": "2023-03-21T17:28:50.531195Z",
     "iopub.status.idle": "2023-03-21T17:28:50.631460Z",
     "shell.execute_reply": "2023-03-21T17:28:50.630222Z"
    },
    "papermill": {
     "duration": 0.109132,
     "end_time": "2023-03-21T17:28:50.635863",
     "exception": false,
     "start_time": "2023-03-21T17:28:50.526731",
     "status": "completed"
    },
    "tags": []
   },
   "outputs": [
    {
     "name": "stdout",
     "output_type": "stream",
     "text": [
      "This version of the API is not optimized and should not be used to estimate the runtime of your code on the hidden test set.\n",
      "(8, 5)\n",
      "  visit_id  visit_month  patient_id updrs_test           row_id\n",
      "0   3342_0            0        3342    updrs_1   3342_0_updrs_1\n",
      "1   3342_0            0        3342    updrs_2   3342_0_updrs_2\n",
      "2   3342_0            0        3342    updrs_3   3342_0_updrs_3\n",
      "3   3342_0            0        3342    updrs_4   3342_0_updrs_4\n",
      "4  50423_0            0       50423    updrs_1  50423_0_updrs_1\n",
      "\n",
      "\n",
      "\n",
      "  visit_id  visit_month  patient_id UniProt  \\\n",
      "0  50423_0            0       50423  O00391   \n",
      "1  50423_0            0       50423  O00391   \n",
      "2  50423_0            0       50423  O00533   \n",
      "3  50423_0            0       50423  O00533   \n",
      "4  50423_0            0       50423  O00533   \n",
      "\n",
      "                                  Peptide  PeptideAbundance  \n",
      "0                    AHFSPSNIILDFPAAGSAAR           22226.3  \n",
      "1                           NEQEQPLGQWHLS           10901.6  \n",
      "2                             GNPEPTFSWTK           51499.4  \n",
      "3                         IEIPSSVQQVPTIIK          125492.0  \n",
      "4  KPQSAVYSTGSNGILLC(UniMod_4)EAEGEPQPTIK           23174.2  \n",
      "\n",
      "\n",
      "\n",
      "  visit_id  visit_month  patient_id UniProt        NPX\n",
      "0  50423_0            0       50423  O00391   33127.90\n",
      "1  50423_0            0       50423  O00533  490742.00\n",
      "2  50423_0            0       50423  O00584   43615.30\n",
      "3  50423_0            0       50423  O14773   16486.60\n",
      "4  50423_0            0       50423  O14791    2882.42\n",
      "\n",
      "\n",
      "\n",
      "                    prediction_id  rating\n",
      "0    3342_0_updrs_1_plus_0_months       0\n",
      "1    3342_0_updrs_1_plus_6_months       0\n",
      "2   3342_0_updrs_1_plus_12_months       0\n",
      "3   3342_0_updrs_1_plus_24_months       0\n",
      "4    3342_0_updrs_2_plus_0_months       0\n",
      "5    3342_0_updrs_2_plus_6_months       0\n",
      "6   3342_0_updrs_2_plus_12_months       0\n",
      "7   3342_0_updrs_2_plus_24_months       0\n",
      "8    3342_0_updrs_3_plus_0_months       0\n",
      "9    3342_0_updrs_3_plus_6_months       0\n",
      "10  3342_0_updrs_3_plus_12_months       0\n",
      "11  3342_0_updrs_3_plus_24_months       0\n",
      "12   3342_0_updrs_4_plus_0_months       0\n",
      "13   3342_0_updrs_4_plus_6_months       0\n",
      "14  3342_0_updrs_4_plus_12_months       0\n",
      "15  3342_0_updrs_4_plus_24_months       0\n",
      "(8, 5)\n",
      "  visit_id  visit_month  patient_id updrs_test           row_id\n",
      "0   3342_6            6        3342    updrs_1   3342_6_updrs_1\n",
      "1   3342_6            6        3342    updrs_2   3342_6_updrs_2\n",
      "2   3342_6            6        3342    updrs_3   3342_6_updrs_3\n",
      "3   3342_6            6        3342    updrs_4   3342_6_updrs_4\n",
      "4  50423_6            6       50423    updrs_1  50423_6_updrs_1\n",
      "\n",
      "\n",
      "\n",
      "  visit_id  visit_month  patient_id UniProt  \\\n",
      "0   3342_6            6        3342  O00391   \n",
      "1   3342_6            6        3342  O00533   \n",
      "2   3342_6            6        3342  O00533   \n",
      "3   3342_6            6        3342  O00533   \n",
      "4   3342_6            6        3342  O00533   \n",
      "\n",
      "                                  Peptide  PeptideAbundance  \n",
      "0                           NEQEQPLGQWHLS           14564.0  \n",
      "1                             GNPEPTFSWTK           96318.4  \n",
      "2                         IEIPSSVQQVPTIIK          182527.0  \n",
      "3  KPQSAVYSTGSNGILLC(UniMod_4)EAEGEPQPTIK           38422.5  \n",
      "4                            SMEQNGPGLEYR           34676.6  \n",
      "\n",
      "\n",
      "\n",
      "  visit_id  visit_month  patient_id UniProt       NPX\n",
      "0   3342_6            6        3342  O00391   14564.0\n",
      "1   3342_6            6        3342  O00533  616804.0\n",
      "2   3342_6            6        3342  O00584   61418.1\n",
      "3   3342_6            6        3342  O14498   27830.1\n",
      "4   3342_6            6        3342  O14773   14959.2\n",
      "\n",
      "\n",
      "\n",
      "                    prediction_id  rating\n",
      "0    3342_6_updrs_1_plus_0_months       0\n",
      "1    3342_6_updrs_1_plus_6_months       0\n",
      "2   3342_6_updrs_1_plus_12_months       0\n",
      "3   3342_6_updrs_1_plus_24_months       0\n",
      "4    3342_6_updrs_2_plus_0_months       0\n",
      "5    3342_6_updrs_2_plus_6_months       0\n",
      "6   3342_6_updrs_2_plus_12_months       0\n",
      "7   3342_6_updrs_2_plus_24_months       0\n",
      "8    3342_6_updrs_3_plus_0_months       0\n",
      "9    3342_6_updrs_3_plus_6_months       0\n",
      "10  3342_6_updrs_3_plus_12_months       0\n",
      "11  3342_6_updrs_3_plus_24_months       0\n",
      "12   3342_6_updrs_4_plus_0_months       0\n",
      "13   3342_6_updrs_4_plus_6_months       0\n",
      "14  3342_6_updrs_4_plus_12_months       0\n",
      "15  3342_6_updrs_4_plus_24_months       0\n"
     ]
    }
   ],
   "source": [
    "env = amp_pd_peptide.make_env()   # initialize the environment\n",
    "amp_pd_peptide.make_env.func_dict['__called__'] = False\n",
    "iter_test = env.iter_test()    # an iterator which loops over the test files\n",
    "\n",
    "# The API will deliver four dataframes in this specific order:\n",
    "for (xtest_clinical, xtest_peptides, xtest_proteins, xtest_sample_submission) in iter_test:\n",
    "    print(xtest_clinical.shape)\n",
    "    print(xtest_clinical.head())\n",
    "    print('\\n\\n')\n",
    "    print(xtest_peptides.head())\n",
    "    print('\\n\\n')\n",
    "    print(xtest_proteins.head())\n",
    "    print('\\n\\n')\n",
    "    print(xtest_sample_submission.head(16))\n",
    "    \n",
    "    #For testing purpose, I am rating all the values as 5\n",
    "    xtest_sample_submission['rating'] = 5\n",
    "    \n",
    "    #call the env.predict for every iteration\n",
    "    env.predict(xtest_sample_submission)"
   ]
  },
  {
   "cell_type": "code",
   "execution_count": null,
   "id": "c6d756d9",
   "metadata": {
    "papermill": {
     "duration": 0.002717,
     "end_time": "2023-03-21T17:28:50.641779",
     "exception": false,
     "start_time": "2023-03-21T17:28:50.639062",
     "status": "completed"
    },
    "tags": []
   },
   "outputs": [],
   "source": []
  }
 ],
 "metadata": {
  "kernelspec": {
   "display_name": "Python 3",
   "language": "python",
   "name": "python3"
  },
  "language_info": {
   "codemirror_mode": {
    "name": "ipython",
    "version": 3
   },
   "file_extension": ".py",
   "mimetype": "text/x-python",
   "name": "python",
   "nbconvert_exporter": "python",
   "pygments_lexer": "ipython3",
   "version": "3.7.12"
  },
  "papermill": {
   "default_parameters": {},
   "duration": 14.919901,
   "end_time": "2023-03-21T17:28:51.469793",
   "environment_variables": {},
   "exception": null,
   "input_path": "__notebook__.ipynb",
   "output_path": "__notebook__.ipynb",
   "parameters": {},
   "start_time": "2023-03-21T17:28:36.549892",
   "version": "2.4.0"
  }
 },
 "nbformat": 4,
 "nbformat_minor": 5
}
